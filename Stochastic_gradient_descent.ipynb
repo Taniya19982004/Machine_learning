{
  "nbformat": 4,
  "nbformat_minor": 0,
  "metadata": {
    "colab": {
      "provenance": []
    },
    "kernelspec": {
      "name": "python3",
      "display_name": "Python 3"
    },
    "language_info": {
      "name": "python"
    }
  },
  "cells": [
    {
      "cell_type": "code",
      "execution_count": 32,
      "metadata": {
        "id": "kgzaxDffPQqL"
      },
      "outputs": [],
      "source": [
        "from sklearn.datasets import load_diabetes\n",
        "\n",
        "import numpy as np\n",
        "import pandas as pd\n",
        "from sklearn.linear_model import LinearRegression\n",
        "from sklearn.metrics import r2_score\n",
        "from sklearn.model_selection import train_test_split\n",
        "import time"
      ]
    },
    {
      "cell_type": "code",
      "source": [
        "x,y=load_diabetes(return_X_y=True)"
      ],
      "metadata": {
        "id": "9KToLeuORURq"
      },
      "execution_count": 33,
      "outputs": []
    },
    {
      "cell_type": "code",
      "source": [
        "x_train,x_test,y_train,y_test=train_test_split(x,y,test_size=0.2,random_state=2)"
      ],
      "metadata": {
        "id": "kNBrFi7_RevI"
      },
      "execution_count": 34,
      "outputs": []
    },
    {
      "cell_type": "code",
      "source": [
        "lr=LinearRegression()\n",
        "start=time.time()\n",
        "lr.fit(x_train,y_train)\n",
        "print(\"Time taken is \",time.time()-start)"
      ],
      "metadata": {
        "colab": {
          "base_uri": "https://localhost:8080/"
        },
        "id": "QnCZF8RMR8SX",
        "outputId": "1c2663a6-8cb0-4100-9230-7a25e32aa1a9"
      },
      "execution_count": 47,
      "outputs": [
        {
          "output_type": "stream",
          "name": "stdout",
          "text": [
            "Time taken is  0.003092527389526367\n"
          ]
        }
      ]
    },
    {
      "cell_type": "code",
      "source": [
        "print(lr.coef_)\n",
        "print(lr.intercept_)"
      ],
      "metadata": {
        "colab": {
          "base_uri": "https://localhost:8080/"
        },
        "id": "VQ35ckfMSSt6",
        "outputId": "b8677af3-8f18-406b-9f7d-72f25b4248a0"
      },
      "execution_count": 36,
      "outputs": [
        {
          "output_type": "stream",
          "name": "stdout",
          "text": [
            "[  -9.15865318 -205.45432163  516.69374454  340.61999905 -895.5520019\n",
            "  561.22067904  153.89310954  126.73139688  861.12700152   52.42112238]\n",
            "151.88331005254167\n"
          ]
        }
      ]
    },
    {
      "cell_type": "code",
      "source": [
        "y_pred=lr.predict(x_test)\n",
        "r2_score(y_test,y_pred)"
      ],
      "metadata": {
        "colab": {
          "base_uri": "https://localhost:8080/"
        },
        "id": "_sYhF5FqScpE",
        "outputId": "545d7fd8-9ce7-4612-cfd6-ae60f24f7cae"
      },
      "execution_count": 37,
      "outputs": [
        {
          "output_type": "execute_result",
          "data": {
            "text/plain": [
              "0.4399338661568968"
            ]
          },
          "metadata": {},
          "execution_count": 37
        }
      ]
    },
    {
      "cell_type": "code",
      "source": [
        "class SGDregressor:\n",
        "  def __init__(self,learning_rate=0.01,epochs=100):\n",
        "    self.coef_=None\n",
        "    self.intercept_=None\n",
        "    self.lr=learning_rate\n",
        "    self.epochs=epochs\n",
        "\n",
        "  def fit(self,x_train,y_train):\n",
        "    self.intercept_=0\n",
        "    self.coef_=np.ones(x_train.shape[1])\n",
        "\n",
        "    for i in range(self.epochs):\n",
        "      for j in range(x_train.shape[0]):\n",
        "\n",
        "         idx=np.random.randint(0,x_train.shape[0])\n",
        "         y_hat = np.dot(x_train[idx],self.coef_)  + self.intercept_\n",
        "         intercept_der = -2 *(y_train[idx] - y_hat)\n",
        "         self.intercept_ = self.intercept_ - (self.lr * intercept_der)\n",
        "\n",
        "         coef_der = -2*np.dot((y_train[idx]-y_hat),x_train[idx])\n",
        "         self.coef_ = self.coef_ - (self.lr * coef_der)\n",
        "    print(self.intercept_,self.coef_)\n",
        "\n",
        "  def predict(self,x_test):\n",
        "    return np.dot(x_test,self.coef_)+self.intercept_\n",
        "\n"
      ],
      "metadata": {
        "id": "2MR0KjiMSm3G"
      },
      "execution_count": 38,
      "outputs": []
    },
    {
      "cell_type": "code",
      "source": [
        "gdr=SGDregressor(epochs=50)"
      ],
      "metadata": {
        "id": "UXKbmcGlVDVo"
      },
      "execution_count": 39,
      "outputs": []
    },
    {
      "cell_type": "code",
      "source": [
        "start=time.time()\n",
        "gdr.fit(x_train,y_train)\n",
        "print(\"Time taken is \",time.time()-start)"
      ],
      "metadata": {
        "colab": {
          "base_uri": "https://localhost:8080/"
        },
        "id": "glirzQxoYC83",
        "outputId": "884d3f7b-70b4-47f0-f75a-7d1e153b0d5f"
      },
      "execution_count": 44,
      "outputs": [
        {
          "output_type": "stream",
          "name": "stdout",
          "text": [
            "155.61096632155193 [  56.0351821   -67.39833944  352.52013493  247.25411341   25.28959554\n",
            "  -23.09818141 -175.8713453   136.90009674  328.68635728  130.61626953]\n",
            "Time taken is  0.2581346035003662\n"
          ]
        }
      ]
    },
    {
      "cell_type": "code",
      "source": [
        "ypred=gdr.predict(x_test)"
      ],
      "metadata": {
        "id": "NHg5udNaYMZr"
      },
      "execution_count": 45,
      "outputs": []
    },
    {
      "cell_type": "code",
      "source": [
        "r2_score(y_test,y_pred)"
      ],
      "metadata": {
        "colab": {
          "base_uri": "https://localhost:8080/"
        },
        "id": "hzrTFnylf-kE",
        "outputId": "692bf081-a8fd-4cbd-9bcf-a34d1cc12a43"
      },
      "execution_count": 46,
      "outputs": [
        {
          "output_type": "execute_result",
          "data": {
            "text/plain": [
              "0.4399338661568968"
            ]
          },
          "metadata": {},
          "execution_count": 46
        }
      ]
    },
    {
      "cell_type": "code",
      "source": [],
      "metadata": {
        "id": "Kyk8yaZNgJ9g"
      },
      "execution_count": 42,
      "outputs": []
    }
  ]
}