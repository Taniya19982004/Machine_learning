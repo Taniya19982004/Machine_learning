{
  "nbformat": 4,
  "nbformat_minor": 0,
  "metadata": {
    "colab": {
      "provenance": []
    },
    "kernelspec": {
      "name": "python3",
      "display_name": "Python 3"
    },
    "language_info": {
      "name": "python"
    }
  },
  "cells": [
    {
      "cell_type": "code",
      "execution_count": 96,
      "metadata": {
        "id": "kgzaxDffPQqL"
      },
      "outputs": [],
      "source": [
        "from sklearn.datasets import load_diabetes\n",
        "\n",
        "import numpy as np\n",
        "import pandas as pd\n",
        "from sklearn.linear_model import LinearRegression\n",
        "from sklearn.metrics import r2_score\n",
        "from sklearn.model_selection import train_test_split\n",
        "import time"
      ]
    },
    {
      "cell_type": "code",
      "source": [
        "x,y=load_diabetes(return_X_y=True)"
      ],
      "metadata": {
        "id": "9KToLeuORURq"
      },
      "execution_count": 97,
      "outputs": []
    },
    {
      "cell_type": "code",
      "source": [
        "x_train,x_test,y_train,y_test=train_test_split(x,y,test_size=0.2,random_state=2)"
      ],
      "metadata": {
        "id": "kNBrFi7_RevI"
      },
      "execution_count": 98,
      "outputs": []
    },
    {
      "cell_type": "code",
      "source": [
        "lr=LinearRegression()\n",
        "start=time.time()\n",
        "lr.fit(x_train,y_train)\n",
        "print(\"Time taken is \",time.time()-start)"
      ],
      "metadata": {
        "colab": {
          "base_uri": "https://localhost:8080/"
        },
        "id": "QnCZF8RMR8SX",
        "outputId": "55be11a3-3c6f-48d6-b697-69ff654e0512"
      },
      "execution_count": 99,
      "outputs": [
        {
          "output_type": "stream",
          "name": "stdout",
          "text": [
            "Time taken is  0.0018343925476074219\n"
          ]
        }
      ]
    },
    {
      "cell_type": "code",
      "source": [
        "print(lr.coef_)\n",
        "print(lr.intercept_)"
      ],
      "metadata": {
        "colab": {
          "base_uri": "https://localhost:8080/"
        },
        "id": "VQ35ckfMSSt6",
        "outputId": "ab1e2bd0-09f3-48f9-dcb5-eb81ab265168"
      },
      "execution_count": 100,
      "outputs": [
        {
          "output_type": "stream",
          "name": "stdout",
          "text": [
            "[  -9.15865318 -205.45432163  516.69374454  340.61999905 -895.5520019\n",
            "  561.22067904  153.89310954  126.73139688  861.12700152   52.42112238]\n",
            "151.88331005254167\n"
          ]
        }
      ]
    },
    {
      "cell_type": "code",
      "source": [
        "y_pred=lr.predict(x_test)\n",
        "r2_score(y_test,y_pred)"
      ],
      "metadata": {
        "colab": {
          "base_uri": "https://localhost:8080/"
        },
        "id": "_sYhF5FqScpE",
        "outputId": "eab88ab2-7f2d-496e-ca01-a3929bbfdabb"
      },
      "execution_count": 101,
      "outputs": [
        {
          "output_type": "execute_result",
          "data": {
            "text/plain": [
              "0.4399338661568968"
            ]
          },
          "metadata": {},
          "execution_count": 101
        }
      ]
    },
    {
      "cell_type": "code",
      "source": [
        "import random\n",
        "class MGDregressor:\n",
        "  def __init__(self,batch_size,learning_rate=0.01,epochs=100):\n",
        "    self.coef_=None\n",
        "    self.intercept_=None\n",
        "    self.lr=learning_rate\n",
        "    self.epochs=epochs\n",
        "    self.batch_size=batch_size\n",
        "\n",
        "  def fit(self,x_train,y_train):\n",
        "    self.intercept_=0\n",
        "    self.coef_=np.ones(x_train.shape[1])\n",
        "\n",
        "    for i in range(self.epochs):\n",
        "      for j in range(int(x_train.shape[0]/self.batch_size)):\n",
        "\n",
        "         idx=random.sample(range(x_train.shape[0]),self.batch_size)\n",
        "         y_hat = np.dot(x_train[idx],self.coef_)  + self.intercept_\n",
        "\n",
        "         intercept_der = -2 *np.mean(y_train[idx] - y_hat)\n",
        "         self.intercept_ = self.intercept_ - (self.lr * intercept_der)\n",
        "\n",
        "         coef_der = -2*np.dot((y_train[idx]-y_hat),x_train[idx])\n",
        "         self.coef_ = self.coef_ - (self.lr * coef_der)\n",
        "    print(self.intercept_,self.coef_)\n",
        "    print(self.coef_.shape)  # Ensure this always prints (10,)\n",
        "\n",
        "  def predict(self,x_test):\n",
        "    return np.dot(x_test,self.coef_)+self.intercept_\n",
        "\n"
      ],
      "metadata": {
        "id": "2MR0KjiMSm3G"
      },
      "execution_count": 111,
      "outputs": []
    },
    {
      "cell_type": "code",
      "source": [
        "gdr=MGDregressor(batch_size=int(x_train.shape[0]/10),learning_rate=0.01,epochs=50)"
      ],
      "metadata": {
        "id": "UXKbmcGlVDVo"
      },
      "execution_count": 112,
      "outputs": []
    },
    {
      "cell_type": "code",
      "source": [
        "\n",
        "gdr.fit(x_train,y_train)\n",
        "\n",
        "\n"
      ],
      "metadata": {
        "colab": {
          "base_uri": "https://localhost:8080/"
        },
        "id": "glirzQxoYC83",
        "outputId": "55bb6b82-75b4-4de4-8fd6-000ee2f8f198"
      },
      "execution_count": 113,
      "outputs": [
        {
          "output_type": "stream",
          "name": "stdout",
          "text": [
            "151.4172904352243 [  58.60463534  -65.01251388  347.17824218  251.30473973   25.92348836\n",
            "  -24.23190622 -161.15180391  124.39338074  319.32876791  130.53382578]\n",
            "(10,)\n"
          ]
        }
      ]
    },
    {
      "cell_type": "code",
      "source": [
        "x_test = x_test.reshape(-1, 1)  # Now x_test has 1 column, but we need 10 columns\n"
      ],
      "metadata": {
        "id": "UPvyq-Hmcb9U"
      },
      "execution_count": 117,
      "outputs": []
    },
    {
      "cell_type": "code",
      "source": [
        "x_test = x_test.reshape(-1, 10)  # Reshapes it to have 1 column and as many rows as needed\n",
        "y_pred=gdr.predict(x_test)\n"
      ],
      "metadata": {
        "id": "NHg5udNaYMZr"
      },
      "execution_count": 119,
      "outputs": []
    },
    {
      "cell_type": "code",
      "source": [
        "r2_score(y_test,y_pred)"
      ],
      "metadata": {
        "colab": {
          "base_uri": "https://localhost:8080/"
        },
        "id": "hzrTFnylf-kE",
        "outputId": "518a941e-3ade-41f2-9f95-035e8fb60e58"
      },
      "execution_count": 120,
      "outputs": [
        {
          "output_type": "execute_result",
          "data": {
            "text/plain": [
              "0.4299724024511442"
            ]
          },
          "metadata": {},
          "execution_count": 120
        }
      ]
    },
    {
      "cell_type": "code",
      "source": [
        "x_train.shape"
      ],
      "metadata": {
        "id": "Kyk8yaZNgJ9g",
        "colab": {
          "base_uri": "https://localhost:8080/"
        },
        "outputId": "716a4975-8c41-4ed1-bd98-31139b915ac9"
      },
      "execution_count": 116,
      "outputs": [
        {
          "output_type": "execute_result",
          "data": {
            "text/plain": [
              "(353, 10)"
            ]
          },
          "metadata": {},
          "execution_count": 116
        }
      ]
    },
    {
      "cell_type": "code",
      "source": [],
      "metadata": {
        "id": "LzMjPiOgaMyh"
      },
      "execution_count": 116,
      "outputs": []
    }
  ]
}